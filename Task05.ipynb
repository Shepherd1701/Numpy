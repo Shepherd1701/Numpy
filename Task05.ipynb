{
 "cells": [
  {
   "cell_type": "markdown",
   "metadata": {},
   "source": [
    "## 13 排序、搜索和计数"
   ]
  },
  {
   "cell_type": "markdown",
   "metadata": {},
   "source": [
    "### 13.1 排序 "
   ]
  },
  {
   "cell_type": "code",
   "execution_count": 3,
   "metadata": {
    "ExecuteTime": {
     "end_time": "2020-10-30T03:51:49.976042Z",
     "start_time": "2020-10-30T03:51:49.930049Z"
    }
   },
   "outputs": [
    {
     "name": "stdout",
     "output_type": "stream",
     "text": [
      "[[6.38 1.89 6.21 5.88 3.69]\n",
      " [1.57 3.39 5.61 3.55 2.81]\n",
      " [1.58 5.28 7.6  8.47 7.88]\n",
      " [6.44 0.86 4.43 1.45 3.49]\n",
      " [6.71 9.55 7.78 8.95 0.78]]\n",
      "[[1.89 3.69 5.88 6.21 6.38]\n",
      " [1.57 2.81 3.39 3.55 5.61]\n",
      " [1.58 5.28 7.6  7.88 8.47]\n",
      " [0.86 1.45 3.49 4.43 6.44]\n",
      " [0.78 6.71 7.78 8.95 9.55]]\n",
      "[[1.57 0.86 4.43 1.45 0.78]\n",
      " [1.58 1.89 5.61 3.55 2.81]\n",
      " [6.38 3.39 6.21 5.88 3.49]\n",
      " [6.44 5.28 7.6  8.47 3.69]\n",
      " [6.71 9.55 7.78 8.95 7.88]]\n",
      "[[1.89 3.69 5.88 6.21 6.38]\n",
      " [1.57 2.81 3.39 3.55 5.61]\n",
      " [1.58 5.28 7.6  7.88 8.47]\n",
      " [0.86 1.45 3.49 4.43 6.44]\n",
      " [0.78 6.71 7.78 8.95 9.55]]\n"
     ]
    }
   ],
   "source": [
    "import numpy as np\n",
    "\n",
    "# axis：排序沿数组的（轴）方向，0表示按行，1表示按列，None表示展开来排序，默认为-1，表示沿最后的轴排序\n",
    "np.random.seed(20201030)\n",
    "x = np.random.rand(5, 5) * 10\n",
    "x = np.around(x, 2)\n",
    "print(x)\n",
    "\n",
    "y = np.sort(x)\n",
    "print(y)\n",
    "\n",
    "y = np.sort(x, axis=0)\n",
    "print(y)\n",
    "\n",
    "y = np.sort(x, axis=1)\n",
    "print(y)"
   ]
  },
  {
   "cell_type": "code",
   "execution_count": 4,
   "metadata": {
    "ExecuteTime": {
     "end_time": "2020-10-30T03:55:48.797027Z",
     "start_time": "2020-10-30T03:55:48.760040Z"
    }
   },
   "outputs": [
    {
     "name": "stdout",
     "output_type": "stream",
     "text": [
      "[(b'Bob', 17) (b'Jane', 27) (b'Mike', 21) (b'Nancy', 25)]\n",
      "[(b'Bob', 17) (b'Mike', 21) (b'Nancy', 25) (b'Jane', 27)]\n"
     ]
    }
   ],
   "source": [
    "dt = np.dtype([('name', 'S10'), ('age', np.int)])\n",
    "a = np.array([(\"Mike\", 21), (\"Nancy\", 25), (\"Bob\", 17), (\"Jane\", 27)], dtype=dt)\n",
    "b = np.sort(a, order='name')\n",
    "print(b)\n",
    "b = np.sort(a, order='age')\n",
    "print(b)"
   ]
  },
  {
   "cell_type": "code",
   "execution_count": 7,
   "metadata": {
    "ExecuteTime": {
     "end_time": "2020-10-30T04:02:39.143288Z",
     "start_time": "2020-10-30T04:02:39.108295Z"
    }
   },
   "outputs": [
    {
     "name": "stdout",
     "output_type": "stream",
     "text": [
      "[6 1 8 5 5 4 1 2 9 1]\n",
      "[1 6 9 7 5 3 4 0 2 8]\n",
      "[1 1 1 2 4 5 5 6 8 9]\n",
      "[8 2 0 3 4 5 7 1 6 9]\n",
      "[9 8 6 5 5 4 2 1 1 1]\n"
     ]
    }
   ],
   "source": [
    "np.random.seed(20200612)\n",
    "x = np.random.randint(0, 10, 10)\n",
    "print(x)\n",
    "# [6 1 8 5 5 4 1 2 9 1]\n",
    "\n",
    "np.sort(x)\n",
    "# [1, 1, 1, 2, 4, 5, 5, 6, 8, 9]\n",
    "\n",
    "y = np.argsort(x)\n",
    "print(y)\n",
    "# [1 6 9 7 5 3 4 0 2 8]\n",
    "\n",
    "print(x[y])\n",
    "# [1 1 1 2 4 5 5 6 8 9]\n",
    "\n",
    "y = np.argsort(-x)\n",
    "print(y)\n",
    "# [8 2 0 3 4 5 7 1 6 9]\n",
    "\n",
    "print(x[y])\n",
    "# [9 8 6 5 5 4 2 1 1 1]"
   ]
  },
  {
   "cell_type": "code",
   "execution_count": 8,
   "metadata": {
    "ExecuteTime": {
     "end_time": "2020-10-30T04:05:14.472137Z",
     "start_time": "2020-10-30T04:05:14.431146Z"
    }
   },
   "outputs": [
    {
     "name": "stdout",
     "output_type": "stream",
     "text": [
      "[[2.32 7.54 9.78 1.73 6.22]\n",
      " [6.93 5.17 9.28 9.76 8.25]\n",
      " [0.01 4.23 0.19 1.73 9.27]\n",
      " [7.99 4.97 0.88 7.32 4.29]\n",
      " [9.05 0.07 8.95 7.9  6.99]]\n",
      "[[3 0 4 1 2]\n",
      " [1 0 4 2 3]\n",
      " [0 2 3 1 4]\n",
      " [2 4 1 3 0]\n",
      " [1 4 3 2 0]]\n",
      "[[2 4 2 0 3]\n",
      " [0 2 3 2 0]\n",
      " [1 3 4 3 4]\n",
      " [3 1 1 4 1]\n",
      " [4 0 0 1 2]]\n",
      "[[3 0 4 1 2]\n",
      " [1 0 4 2 3]\n",
      " [0 2 3 1 4]\n",
      " [2 4 1 3 0]\n",
      " [1 4 3 2 0]]\n",
      "[[1.73 2.32 6.22 7.54 9.78]\n",
      " [5.17 6.93 8.25 9.28 9.76]\n",
      " [0.01 0.19 1.73 4.23 9.27]\n",
      " [0.88 4.29 4.97 7.32 7.99]\n",
      " [0.07 6.99 7.9  8.95 9.05]]\n"
     ]
    }
   ],
   "source": [
    "np.random.seed(20200612)\n",
    "x = np.random.rand(5, 5) * 10\n",
    "x = np.around(x, 2)\n",
    "print(x)\n",
    "\n",
    "y = np.argsort(x)\n",
    "print(y)\n",
    "\n",
    "y = np.argsort(x, axis=0)\n",
    "print(y)\n",
    "\n",
    "y = np.argsort(x, axis=1)\n",
    "print(y)\n",
    "\n",
    "y = np.array([np.take(x[i], np.argsort(x[i])) for i in range(5)])\n",
    "#numpy.take(a, indices, axis=None, out=None, mode='raise')沿轴从数组中获取元素。\n",
    "print(y)"
   ]
  },
  {
   "cell_type": "markdown",
   "metadata": {},
   "source": [
    "### 13.2 搜索"
   ]
  },
  {
   "cell_type": "code",
   "execution_count": 10,
   "metadata": {
    "ExecuteTime": {
     "end_time": "2020-10-30T04:09:59.101436Z",
     "start_time": "2020-10-30T04:09:59.057442Z"
    }
   },
   "outputs": [
    {
     "name": "stdout",
     "output_type": "stream",
     "text": [
      "[[2.32 7.54 9.78 1.73 6.22]\n",
      " [6.93 5.17 9.28 9.76 8.25]\n",
      " [0.01 4.23 0.19 1.73 9.27]\n",
      " [7.99 4.97 0.88 7.32 4.29]\n",
      " [9.05 0.07 8.95 7.9  6.99]]\n",
      "2\n",
      "[4 0 0 1 2]\n",
      "[2 3 4 0 0]\n"
     ]
    }
   ],
   "source": [
    "np.random.seed(20200612)\n",
    "x = np.random.rand(5, 5) * 10\n",
    "x = np.around(x, 2)\n",
    "print(x)\n",
    "\n",
    "y = np.argmax(x)\n",
    "print(y)\n",
    "\n",
    "y = np.argmax(x, axis=0)\n",
    "print(y)\n",
    "\n",
    "y = np.argmax(x, axis=1)\n",
    "print(y)"
   ]
  },
  {
   "cell_type": "code",
   "execution_count": 11,
   "metadata": {
    "ExecuteTime": {
     "end_time": "2020-10-30T04:16:24.392860Z",
     "start_time": "2020-10-30T04:16:24.352867Z"
    }
   },
   "outputs": [
    {
     "name": "stdout",
     "output_type": "stream",
     "text": [
      "[[2.32 7.54 9.78 1.73 6.22]\n",
      " [6.93 5.17 9.28 9.76 8.25]\n",
      " [0.01 4.23 0.19 1.73 9.27]\n",
      " [7.99 4.97 0.88 7.32 4.29]\n",
      " [9.05 0.07 8.95 7.9  6.99]]\n",
      "10\n",
      "[2 4 2 0 3]\n",
      "[3 1 0 2 1]\n"
     ]
    }
   ],
   "source": [
    "np.random.seed(20200612)\n",
    "x = np.random.rand(5, 5) * 10\n",
    "x = np.around(x, 2)\n",
    "print(x)\n",
    "\n",
    "y = np.argmin(x)\n",
    "print(y)\n",
    "\n",
    "y = np.argmin(x, axis=0)\n",
    "print(y)\n",
    "\n",
    "y = np.argmin(x, axis=1)\n",
    "print(y)"
   ]
  },
  {
   "cell_type": "code",
   "execution_count": 12,
   "metadata": {
    "ExecuteTime": {
     "end_time": "2020-10-30T04:23:01.872750Z",
     "start_time": "2020-10-30T04:23:01.837761Z"
    }
   },
   "outputs": [
    {
     "name": "stdout",
     "output_type": "stream",
     "text": [
      "[0 2 3]\n",
      "(3,)\n",
      "1\n",
      "(array([1, 2], dtype=int64),)\n",
      "[[1 2]]\n",
      "(1, 2)\n",
      "2\n",
      "[[1]\n",
      " [2]]\n",
      "[2 3]\n"
     ]
    }
   ],
   "source": [
    "x = np.array([0, 2, 3])\n",
    "print(x) # [0 2 3]\n",
    "print(x.shape) # (3,)\n",
    "print(x.ndim) # 1\n",
    "y = np.nonzero(x)\n",
    "print(y) # (array([1, 2], dtype=int64),)\n",
    "print(np.array(y)) # [[1 2]]\n",
    "print(np.array(y).shape) # (1, 2)\n",
    "print(np.array(y).ndim) # 2\n",
    "print(np.transpose(y))\n",
    "print(x[np.nonzero(x)])"
   ]
  },
  {
   "cell_type": "markdown",
   "metadata": {},
   "source": [
    "### 13.3 计数"
   ]
  },
  {
   "cell_type": "code",
   "execution_count": 13,
   "metadata": {
    "ExecuteTime": {
     "end_time": "2020-10-30T04:24:12.457377Z",
     "start_time": "2020-10-30T04:24:12.401384Z"
    }
   },
   "outputs": [
    {
     "name": "stdout",
     "output_type": "stream",
     "text": [
      "4\n",
      "5\n",
      "[1 1 1 1 1]\n",
      "[2 3]\n"
     ]
    }
   ],
   "source": [
    "x = np.count_nonzero(np.eye(4))\n",
    "print(x)\n",
    "x = np.count_nonzero([[0, 1, 7, 0, 0], [3, 0, 0, 2, 19]])\n",
    "print(x)\n",
    "x = np.count_nonzero([[0, 1, 7, 0, 0], [3, 0, 0, 2, 19]], axis=0)\n",
    "print(x)\n",
    "x = np.count_nonzero([[0, 1, 7, 0, 0], [3, 0, 0, 2, 19]], axis=1)\n",
    "print(x)"
   ]
  },
  {
   "cell_type": "markdown",
   "metadata": {},
   "source": [
    "## 14 集合操作"
   ]
  },
  {
   "cell_type": "code",
   "execution_count": 14,
   "metadata": {
    "ExecuteTime": {
     "end_time": "2020-10-30T04:31:03.230020Z",
     "start_time": "2020-10-30T04:31:03.130060Z"
    }
   },
   "outputs": [
    {
     "name": "stdout",
     "output_type": "stream",
     "text": [
      "[1 2 3]\n",
      "[1, 2, 3]\n",
      "[1 2 3]\n",
      "[[1 0 0]\n",
      " [2 3 4]]\n",
      "['a' 'b' 'c']\n",
      "[0 1 3]\n",
      "['a' 'b' 'c']\n",
      "[1 2 3 4 6]\n",
      "[0 1 4 3 1 2 1]\n",
      "[1 2 6 4 2 3 2]\n",
      "[1 2 3 4 6]\n",
      "[1 3 1 1 1]\n"
     ]
    }
   ],
   "source": [
    "x = np.unique([1, 1, 3, 2, 3, 3])\n",
    "print(x)\n",
    "\n",
    "x = sorted(set([1, 1, 3, 2, 3, 3]))\n",
    "print(x)\n",
    "\n",
    "x = np.array([[1, 1], [2, 3]])\n",
    "u = np.unique(x)\n",
    "print(u)\n",
    "\n",
    "x = np.array([[1, 0, 0], [1, 0, 0], [2, 3, 4]])\n",
    "y = np.unique(x, axis=0)\n",
    "print(y)\n",
    "\n",
    "x = np.array(['a', 'b', 'b', 'c', 'a'])\n",
    "u, index = np.unique(x, return_index=True)\n",
    "print(u)\n",
    "print(index)\n",
    "print(x[index])\n",
    "\n",
    "x = np.array([1, 2, 6, 4, 2, 3, 2])\n",
    "u, index = np.unique(x, return_inverse=True)\n",
    "print(u)\n",
    "print(index)\n",
    "print(u[index])\n",
    "\n",
    "u, count = np.unique(x, return_counts=True)\n",
    "print(u)\n",
    "print(count)"
   ]
  },
  {
   "cell_type": "code",
   "execution_count": 15,
   "metadata": {
    "ExecuteTime": {
     "end_time": "2020-10-30T04:32:20.983463Z",
     "start_time": "2020-10-30T04:32:20.957467Z"
    }
   },
   "outputs": [
    {
     "name": "stdout",
     "output_type": "stream",
     "text": [
      "[ True False  True False  True]\n",
      "[0 2 0]\n",
      "[False  True False  True False]\n",
      "[1 5]\n"
     ]
    }
   ],
   "source": [
    "test = np.array([0, 1, 2, 5, 0])\n",
    "states = [0, 2]\n",
    "mask = np.in1d(test, states)\n",
    "print(mask)\n",
    "print(test[mask])\n",
    "\n",
    "mask = np.in1d(test, states, invert=True)\n",
    "print(mask)\n",
    "print(test[mask])"
   ]
  },
  {
   "cell_type": "code",
   "execution_count": 16,
   "metadata": {
    "ExecuteTime": {
     "end_time": "2020-10-30T04:33:53.835139Z",
     "start_time": "2020-10-30T04:33:53.786153Z"
    }
   },
   "outputs": [
    {
     "name": "stdout",
     "output_type": "stream",
     "text": [
      "[1 3]\n",
      "[0 2 4]\n",
      "[1 0 2]\n",
      "[1 2 4]\n",
      "[1 2 4]\n",
      "[1 2 4]\n",
      "[3]\n"
     ]
    }
   ],
   "source": [
    "# 求两个集合的交集\n",
    "from functools import reduce\n",
    "\n",
    "x = np.intersect1d([1, 3, 4, 3], [3, 1, 2, 1])\n",
    "print(x)\n",
    "\n",
    "x = np.array([1, 1, 2, 3, 4])\n",
    "y = np.array([2, 1, 4, 6])\n",
    "xy, x_ind, y_ind = np.intersect1d(x, y, return_indices=True)\n",
    "print(x_ind)\n",
    "print(y_ind)\n",
    "print(xy)\n",
    "print(x[x_ind])\n",
    "print(y[y_ind])\n",
    "\n",
    "x = reduce(np.intersect1d, ([1, 3, 4, 3], [3, 1, 2, 1], [6, 3, 4, 2]))\n",
    "print(x)"
   ]
  },
  {
   "cell_type": "code",
   "execution_count": 17,
   "metadata": {
    "ExecuteTime": {
     "end_time": "2020-10-30T04:34:29.240374Z",
     "start_time": "2020-10-30T04:34:29.215377Z"
    }
   },
   "outputs": [
    {
     "name": "stdout",
     "output_type": "stream",
     "text": [
      "[-2 -1  0  1  2]\n",
      "[1 2 3 4 6]\n"
     ]
    }
   ],
   "source": [
    "x = np.union1d([-1, 0, 1], [-2, 0, 2])\n",
    "print(x)\n",
    "x = reduce(np.union1d, ([1, 3, 4, 3], [3, 1, 2, 1], [6, 3, 4, 2]))\n",
    "print(x) "
   ]
  },
  {
   "cell_type": "code",
   "execution_count": 18,
   "metadata": {
    "ExecuteTime": {
     "end_time": "2020-10-30T04:36:14.167841Z",
     "start_time": "2020-10-30T04:36:14.142850Z"
    }
   },
   "outputs": [
    {
     "name": "stdout",
     "output_type": "stream",
     "text": [
      "[1 2]\n"
     ]
    }
   ],
   "source": [
    "a = np.array([1, 2, 3, 2, 4, 1])\n",
    "b = np.array([3, 4, 5, 6])\n",
    "x = np.setdiff1d(a, b)\n",
    "print(x) "
   ]
  },
  {
   "cell_type": "code",
   "execution_count": 19,
   "metadata": {
    "ExecuteTime": {
     "end_time": "2020-10-30T04:36:21.179482Z",
     "start_time": "2020-10-30T04:36:21.164492Z"
    }
   },
   "outputs": [
    {
     "name": "stdout",
     "output_type": "stream",
     "text": [
      "[1 2 5 6]\n"
     ]
    }
   ],
   "source": [
    "a = np.array([1, 2, 3, 2, 4, 1])\n",
    "b = np.array([3, 4, 5, 6])\n",
    "x = np.setxor1d(a, b)\n",
    "print(x)"
   ]
  }
 ],
 "metadata": {
  "hide_input": false,
  "kernelspec": {
   "display_name": "Python 3",
   "language": "python",
   "name": "python3"
  },
  "language_info": {
   "codemirror_mode": {
    "name": "ipython",
    "version": 3
   },
   "file_extension": ".py",
   "mimetype": "text/x-python",
   "name": "python",
   "nbconvert_exporter": "python",
   "pygments_lexer": "ipython3",
   "version": "3.8.3"
  },
  "varInspector": {
   "cols": {
    "lenName": 16,
    "lenType": 16,
    "lenVar": 40
   },
   "kernels_config": {
    "python": {
     "delete_cmd_postfix": "",
     "delete_cmd_prefix": "del ",
     "library": "var_list.py",
     "varRefreshCmd": "print(var_dic_list())"
    },
    "r": {
     "delete_cmd_postfix": ") ",
     "delete_cmd_prefix": "rm(",
     "library": "var_list.r",
     "varRefreshCmd": "cat(var_dic_list()) "
    }
   },
   "types_to_exclude": [
    "module",
    "function",
    "builtin_function_or_method",
    "instance",
    "_Feature"
   ],
   "window_display": false
  }
 },
 "nbformat": 4,
 "nbformat_minor": 4
}
